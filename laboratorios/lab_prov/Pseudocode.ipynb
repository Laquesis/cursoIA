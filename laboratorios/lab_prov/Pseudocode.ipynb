{
 "cells": [
  {
   "cell_type": "markdown",
   "id": "d5ac48c5-df86-4691-a1f4-88da938b30b5",
   "metadata": {},
   "source": [
    "# Planificación y Desarrollo de una Aplicación\n",
    "\n",
    "## Desafío:\n",
    "\n",
    "El objetivo de este desafío es desarrollar una aplicación para resolver un problema determinado. Antes de comenzar con la programación, es necesario crear un plan en forma de pseudocódigo que sirva como guía. Esta planificación es esencial para estructurar correctamente la solución y facilitar su implementación en código.\n",
    "\n",
    "### Etapas del Desafío:\n",
    "\n",
    "1. **Generación del Pseudocódigo**:\n",
    "   - Describir, en pasos lógicos, cómo funcionará la aplicación.\n",
    "   - Incluir las operaciones principales que realizará la aplicación de acuerdo al problema que se debe resolver.\n",
    "   - Asegurarse de que cada funcionalidad esté clara y bien definida en el pseudocódigo para evitar confusión durante la fase de implementación.\n",
    "   - Anticipar posibles interacciones del usuario con el sistema y cómo se manejarán los datos.\n",
    "\n",
    "2. **Desarrollo del Código**:\n",
    "   - Basarse en el pseudocódigo previamente generado para escribir el código que implemente la solución.\n",
    "   - Seguir el plan estructurado en el pseudocódigo y ajustarlo según sea necesario durante el desarrollo.\n",
    "   - Garantizar que todas las funcionalidades y casos previstos en el pseudocódigo estén reflejados en el código final.\n",
    "\n",
    "Este enfoque sistemático asegura que cualquier problema que se esté abordando tenga una solución bien planificada y organizada.\n"
   ]
  },
  {
   "cell_type": "markdown",
   "id": "4bf085f6-8fca-41ea-980d-ef041b42a2c7",
   "metadata": {},
   "source": [
    "# Ejemplo 1: Seguidor de Gastos Mensuales\n",
    "\n",
    "## Declaración del Problema:\n",
    "\n",
    "Imagina que formas parte de un pequeño equipo de negocio, y tu gerente se ha acercado a ti con una tarea. Quieren que crees un programa fácil de usar para ayudar a rastrear los gastos mensuales. Tu programa debe permitir a los usuarios ingresar gastos diarios y, al final del mes, calcular sin esfuerzo el gasto total.\n"
   ]
  },
  {
   "cell_type": "code",
   "execution_count": 2,
   "id": "eefa87f2-eaab-4d3c-ac7f-038e2e666c6f",
   "metadata": {},
   "outputs": [],
   "source": [
    "# INICIO\n",
    "# DECLARAR gastos COMO LISTA VACÍA\n",
    "# DECLARAR totalGasto COMO NÚMERO\n",
    "# totalGasto <- 0\n",
    "# IMPRIMIR \"Bienvenido al Seguidor de Gastos Mensuales\"\n",
    "# PARA cada día EN el mes HACER\n",
    "# IMPRIMIR \"Ingrese el gasto del día \", día, \" (o escriba 'fin' para terminar):\"\n",
    "# LEER gasto\n",
    "# SI gasto ES igual a 'fin' ENTONCES\n",
    "# SALIR DEL BUCLE\n",
    "# FIN SI\n",
    "# AÑADIR gasto A la lista gastos\n",
    "# totalGasto <- totalGasto + gasto\n",
    "# FIN PARA\n",
    "# IMPRIMIR \"Gasto total del mes: \", totalGasto\n",
    "# IMPRIMIR \"Detalles de los gastos: \", gastos\n",
    "# FIN"
   ]
  },
  {
   "cell_type": "code",
   "execution_count": null,
   "id": "06945052-a3dd-4cdd-8daa-f31d5c384ba8",
   "metadata": {},
   "outputs": [],
   "source": []
  },
  {
   "cell_type": "markdown",
   "id": "6750f0e0-a63f-4482-9ef7-d2652bc06be7",
   "metadata": {},
   "source": [
    "# Inventario de Tienda en Línea\n",
    "\n",
    "## Declaración del Problema:\n",
    "\n",
    "Se te ha encargado crear un programa simple para una tienda en línea. El programa debería ayudar a gestionar el inventario de productos disponibles en la tienda. El inventario consta de varios productos con sus respectivos nombres, precios y cantidades en stock. Tu programa debe tener las siguientes características:\n",
    "\n",
    "- Inicializar un inventario vacío para empezar.\n",
    "- Permitir al usuario añadir nuevos productos al inventario. Cada producto debe tener un nombre, precio y cantidad inicial en stock.\n",
    "- Mostrar el inventario actual, mostrando el nombre, precio y cantidad de cada producto.\n",
    "- Permitir al usuario buscar un producto específico por nombre y ver sus detalles (precio y cantidad).\n",
    "- Habilitar al usuario para actualizar la cantidad de un producto específico en stock.\n",
    "- Implementar una función para calcular y mostrar el valor total de todo el inventario.\n"
   ]
  },
  {
   "cell_type": "code",
   "execution_count": null,
   "id": "366a483e-cf25-41b6-b389-2b0f052ec4a3",
   "metadata": {},
   "outputs": [],
   "source": []
  },
  {
   "cell_type": "code",
   "execution_count": null,
   "id": "a7e0ee6c-6646-4894-a586-83e10bf2809e",
   "metadata": {},
   "outputs": [],
   "source": []
  },
  {
   "cell_type": "markdown",
   "id": "92770bb7-82d5-4d24-9106-bd4f5355eaa4",
   "metadata": {},
   "source": [
    "# Gestor de Tareas\n",
    "\n",
    "## Declaración del Problema:\n",
    "\n",
    "Se te ha encargado crear un programa que ayude a gestionar una lista de tareas. El programa debe permitir a los usuarios agregar, eliminar y visualizar tareas, así como marcar las tareas como completadas. a aplicación debe tener las siguientes características:\n",
    "\n",
    "- Inicializar una lista vacía para las tareas.\n",
    "- Permitir al usuario agregar una nueva tarea con una descripción.\n",
    "- Mostrar todas las tareas actuales, indicando cuáles están completadas y cuáles no.\n",
    "- Permitir al usuario marcar una tarea como completada.\n",
    "- Permitir al usuario eliminar una tarea de la lista.\n",
    "- Implementar una opción para salir del programa.\n",
    "\n",
    "El programa debe ser fácil de usar y manejar la entrada del usuario de manera adecuada.\n"
   ]
  },
  {
   "cell_type": "code",
   "execution_count": null,
   "id": "5fae59b6-35bf-475c-9845-ef23d1755be0",
   "metadata": {},
   "outputs": [],
   "source": []
  },
  {
   "cell_type": "code",
   "execution_count": null,
   "id": "50d78030-a639-40fe-a889-390d2b22819f",
   "metadata": {},
   "outputs": [],
   "source": []
  }
 ],
 "metadata": {
  "kernelspec": {
   "display_name": "Python 3 (ipykernel)",
   "language": "python",
   "name": "python3"
  },
  "language_info": {
   "codemirror_mode": {
    "name": "ipython",
    "version": 3
   },
   "file_extension": ".py",
   "mimetype": "text/x-python",
   "name": "python",
   "nbconvert_exporter": "python",
   "pygments_lexer": "ipython3",
   "version": "3.10.12"
  }
 },
 "nbformat": 4,
 "nbformat_minor": 5
}
