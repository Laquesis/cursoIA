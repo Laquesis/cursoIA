{
  "cells": [
    {
      "cell_type": "markdown",
      "metadata": {
        "id": "v7Fbri34YEa_"
      },
      "source": [
        "# Laboratorio: Programación en Python\n",
        "\n",
        "En este laboratorio, pondremos en práctica algunos de los conceptos que hemos aprendido recientemente. El objetivo es que implementes cada función utilizando tres enfoques diferentes en Python: **programación imperativa**, **programación orientada a objetos** y **programación funcional**.\n",
        "\n",
        "> **NOTA:** En este laboratorio deberías intentar escribir todas las funciones por ti mismo utilizando únicamente la sintaxis más básica de Python, sin utilizar funciones predefinidas como `len`, `count`, `sum`, `max`, `min`, `in`, etc. ¡Dale una oportunidad! 🧑🏻‍💻👩🏻‍💻\n",
        "\n",
        "La celda después de cada ejercicio contiene pruebas para verificar si tu función funciona como se espera.\n"
      ]
    },
    {
      "cell_type": "code",
      "execution_count": null,
      "metadata": {
        "id": "m0pZ1IXEYEbA"
      },
      "outputs": [],
      "source": [
        "from mod.testing import *\n",
        "import unittest"
      ]
    },
    {
      "cell_type": "markdown",
      "metadata": {
        "id": "Oo64SVLnYEbB"
      },
      "source": [
        "## 1. Escribe una función que devuelva el mayor de dos números"
      ]
    },
    {
      "cell_type": "code",
      "execution_count": null,
      "metadata": {
        "id": "KAVFV0HFYEbB"
      },
      "outputs": [],
      "source": [
        "#tu codigo aquí\n",
        "def greater_imperativa(a, b):\n",
        "    if a > b:\n",
        "        return a\n",
        "    else:\n",
        "        return b"
      ]
    },
    {
      "cell_type": "code",
      "execution_count": null,
      "metadata": {
        "id": "6ThtC_brYEbB",
        "outputId": "3ac754bd-8d25-4f44-cbb8-74dc96f58abe"
      },
      "outputs": [
        {
          "name": "stderr",
          "output_type": "stream",
          "text": [
            "....................................................................................................\n",
            "----------------------------------------------------------------------\n",
            "Ran 100 tests in 0.272s\n",
            "\n",
            "OK\n"
          ]
        }
      ],
      "source": [
        "# Para testear tu función\n",
        "test_greater(greater_imperativa)"
      ]
    },
    {
      "cell_type": "code",
      "execution_count": null,
      "metadata": {
        "id": "r3kNXBK5YEbB"
      },
      "outputs": [],
      "source": [
        "class Comparador:\n",
        "    @staticmethod\n",
        "    def greater_poo(a, b):\n",
        "        return a if a > b else b\n",
        "\n",
        "greater_poo = Comparador.greater_poo"
      ]
    },
    {
      "cell_type": "code",
      "execution_count": null,
      "metadata": {
        "id": "-0QvLjuzYEbB",
        "outputId": "c6973110-ae6d-4635-f88d-0ce545429694"
      },
      "outputs": [
        {
          "name": "stderr",
          "output_type": "stream",
          "text": [
            "....................................................................................................\n",
            "----------------------------------------------------------------------\n",
            "Ran 100 tests in 0.318s\n",
            "\n",
            "OK\n"
          ]
        }
      ],
      "source": [
        "test_greater(greater_poo)"
      ]
    },
    {
      "cell_type": "code",
      "execution_count": null,
      "metadata": {
        "id": "pds0D20WYEbC"
      },
      "outputs": [],
      "source": [
        "greater_funcional = (lambda a, b: a if a > b else b)"
      ]
    },
    {
      "cell_type": "code",
      "execution_count": null,
      "metadata": {
        "id": "TefpMdpwYEbC",
        "outputId": "7aecbafa-b97f-4654-f452-f165678717f3"
      },
      "outputs": [
        {
          "name": "stderr",
          "output_type": "stream",
          "text": [
            "....................................................................................................\n",
            "----------------------------------------------------------------------\n",
            "Ran 100 tests in 0.303s\n",
            "\n",
            "OK\n"
          ]
        }
      ],
      "source": [
        "test_greater(greater_funcional)"
      ]
    },
    {
      "cell_type": "markdown",
      "metadata": {
        "id": "UqMqvxwBYEbC"
      },
      "source": [
        "## 2. Ahora escribe una función que devuelva el elemento más grande de una lista numerica"
      ]
    },
    {
      "cell_type": "code",
      "execution_count": null,
      "metadata": {
        "id": "ABp9UXYzYEbC"
      },
      "outputs": [],
      "source": [
        "#tu codigo aquí\n",
        "def greatest_imperativa(arr):\n",
        "    try:\n",
        "        max_num = arr[0]\n",
        "    except IndexError:\n",
        "        return None\n",
        "\n",
        "    for num in arr:\n",
        "        if num > max_num:\n",
        "            max_num = num\n",
        "    return max_num"
      ]
    },
    {
      "cell_type": "code",
      "execution_count": null,
      "metadata": {
        "id": "Yui019QJYEbC",
        "outputId": "90599b89-2139-4fb3-c88d-d93dae42fbaf"
      },
      "outputs": [
        {
          "name": "stderr",
          "output_type": "stream",
          "text": [
            "....................................................................................................\n",
            "----------------------------------------------------------------------\n",
            "Ran 100 tests in 0.284s\n",
            "\n",
            "OK\n"
          ]
        }
      ],
      "source": [
        "# Para testear tu función\n",
        "test_greatest(greatest_imperativa)"
      ]
    },
    {
      "cell_type": "code",
      "execution_count": null,
      "metadata": {
        "id": "xLRLnJXCYEbC"
      },
      "outputs": [],
      "source": [
        "class Comparador:\n",
        "    @staticmethod\n",
        "    def (arr):\n",
        "      if greater_poo(arr)=arr[0]:\n",
        "        return None\n",
        "\n",
        "    def greater_poo(arr):\n",
        "      for num in arr:\n",
        "        if num > max_num:\n",
        "            max_num = num\n",
        "      return max_num\n",
        "\n",
        "greatest_poo = Comparador.greater_poo"
      ]
    },
    {
      "cell_type": "code",
      "execution_count": null,
      "metadata": {
        "id": "nPVCccW2YEbC"
      },
      "outputs": [],
      "source": [
        "test_greatest(greatest_poo)"
      ]
    },
    {
      "cell_type": "code",
      "execution_count": null,
      "metadata": {
        "id": "KpFTMQxDYEbD"
      },
      "outputs": [],
      "source": []
    },
    {
      "cell_type": "code",
      "execution_count": null,
      "metadata": {
        "id": "u2yT_l_7YEbD"
      },
      "outputs": [],
      "source": [
        "test_greatest(greatest_funcional)"
      ]
    },
    {
      "cell_type": "markdown",
      "metadata": {
        "id": "BmphmbrLYEbD"
      },
      "source": [
        "## 3. Escribe una función que sume todos los elementos de una lista"
      ]
    },
    {
      "cell_type": "code",
      "execution_count": null,
      "metadata": {
        "id": "dajarEjCYEbD"
      },
      "outputs": [],
      "source": [
        "#tu codigo aquí"
      ]
    },
    {
      "cell_type": "code",
      "execution_count": null,
      "metadata": {
        "id": "Ir-2YwPeYEbD"
      },
      "outputs": [],
      "source": [
        "# Para testear tu función\n",
        "test_sum(sum_imperativa)"
      ]
    },
    {
      "cell_type": "code",
      "execution_count": null,
      "metadata": {
        "id": "vSnlT3M9YEbD"
      },
      "outputs": [],
      "source": []
    },
    {
      "cell_type": "code",
      "execution_count": null,
      "metadata": {
        "id": "t4xRBTJYYEbD"
      },
      "outputs": [],
      "source": [
        "test_sum(sum_poo)"
      ]
    },
    {
      "cell_type": "code",
      "execution_count": null,
      "metadata": {
        "id": "ePd-gUGKYEbD"
      },
      "outputs": [],
      "source": []
    },
    {
      "cell_type": "code",
      "execution_count": null,
      "metadata": {
        "id": "CMPZ_qmlYEbD"
      },
      "outputs": [],
      "source": [
        "test_sum(sum_funcional)"
      ]
    },
    {
      "cell_type": "markdown",
      "metadata": {
        "id": "DnF0N9v-YEbD"
      },
      "source": [
        "## 4. Escribe otra función que multiplique todos los elementos de una lista"
      ]
    },
    {
      "cell_type": "code",
      "execution_count": null,
      "metadata": {
        "id": "lQsALoquYEbD"
      },
      "outputs": [],
      "source": [
        "#tu codigo aquí\n"
      ]
    },
    {
      "cell_type": "code",
      "execution_count": null,
      "metadata": {
        "id": "tMmw7xh7YEbD"
      },
      "outputs": [],
      "source": [
        "# Para testear tu función\n",
        "test_mult(mult_imperativa)"
      ]
    },
    {
      "cell_type": "code",
      "execution_count": null,
      "metadata": {
        "id": "OjlROqX8YEbE"
      },
      "outputs": [],
      "source": []
    },
    {
      "cell_type": "code",
      "execution_count": null,
      "metadata": {
        "id": "jIbqgeDGYEbE"
      },
      "outputs": [],
      "source": [
        "test_mult(mult_poo)"
      ]
    },
    {
      "cell_type": "code",
      "execution_count": null,
      "metadata": {
        "id": "H4rEnsj2YEbE"
      },
      "outputs": [],
      "source": []
    },
    {
      "cell_type": "code",
      "execution_count": null,
      "metadata": {
        "id": "aIh2LBlIYEbE"
      },
      "outputs": [],
      "source": [
        "test_mult(mult_funcional)"
      ]
    },
    {
      "cell_type": "markdown",
      "metadata": {
        "id": "alP0DeJLYEbE"
      },
      "source": [
        "## 5. Ahora combina esas dos ideas y escribe una función que reciba una lista y ya sea \"+\" o \"*\", y produzca el resultado acorde"
      ]
    },
    {
      "cell_type": "code",
      "execution_count": null,
      "metadata": {
        "id": "UcbCMKiNYEbE"
      },
      "outputs": [],
      "source": [
        "#tu codigo aquí"
      ]
    },
    {
      "cell_type": "code",
      "execution_count": null,
      "metadata": {
        "id": "6kHfamE0YEbE"
      },
      "outputs": [],
      "source": [
        "# Para testear tu función\n",
        "test_operations(operaciones_imperativa)"
      ]
    },
    {
      "cell_type": "code",
      "execution_count": null,
      "metadata": {
        "id": "zvjcobGvYEbE"
      },
      "outputs": [],
      "source": []
    },
    {
      "cell_type": "code",
      "execution_count": null,
      "metadata": {
        "id": "OEjIgY2WYEbE"
      },
      "outputs": [],
      "source": [
        "test_operations(operaciones_poo)"
      ]
    },
    {
      "cell_type": "code",
      "execution_count": null,
      "metadata": {
        "id": "sSycE-FvYEbE"
      },
      "outputs": [],
      "source": []
    },
    {
      "cell_type": "code",
      "execution_count": null,
      "metadata": {
        "id": "_RlGU5nIYEbE"
      },
      "outputs": [],
      "source": [
        "test_operations(operaciones_funcional)"
      ]
    },
    {
      "cell_type": "markdown",
      "metadata": {
        "id": "2D4zPzC0YEbE"
      },
      "source": [
        "## 6. Escribe una función que devuelva el factorial de un número."
      ]
    },
    {
      "cell_type": "code",
      "execution_count": null,
      "metadata": {
        "id": "sgmWY_zbYEbE"
      },
      "outputs": [],
      "source": [
        "# Fórmula factorial\n",
        "# n! = n * (n - 1) *...*1\n",
        "\n",
        "# Este código define una función llamada \"factorial\" que toma una entrada \"n\". La función utiliza un bucle for para iterar a través del rango de números\n",
        "# desde 1 hasta n+1. Para cada número en ese rango, multiplica el valor actual de x por el número en el rango. Al final del bucle,\n",
        "# la función devuelve el valor final de x, que será el factorial del número de entrada \"n\".\n",
        "\n",
        "# El factorial de un entero positivo n es el producto de todos los enteros positivos menores o iguales a n.\n",
        "# Por ejemplo, el factorial de 6 (escrito \"6!\") es 6 * 5 * 4 * 3 * 2 * 1 = 720.\n",
        "\n",
        "# Así que esta función toma una entrada de cualquier entero positivo y devuelve el factorial de ese número."
      ]
    },
    {
      "cell_type": "code",
      "execution_count": null,
      "metadata": {
        "id": "2KqHqo0mYEbF"
      },
      "outputs": [],
      "source": [
        "#tu codigo aquí"
      ]
    },
    {
      "cell_type": "code",
      "execution_count": null,
      "metadata": {
        "id": "pTxU0rphYEbF"
      },
      "outputs": [],
      "source": [
        "# Para testear tu función\n",
        "test_factorial(factorial_imperativa)"
      ]
    },
    {
      "cell_type": "code",
      "execution_count": null,
      "metadata": {
        "id": "ZlbD04lBYEbF"
      },
      "outputs": [],
      "source": []
    },
    {
      "cell_type": "code",
      "execution_count": null,
      "metadata": {
        "id": "KytT6o3BYEbF"
      },
      "outputs": [],
      "source": [
        "test_factorial(factorial_poo)"
      ]
    },
    {
      "cell_type": "code",
      "execution_count": null,
      "metadata": {
        "id": "mCRZJIOkYEbG"
      },
      "outputs": [],
      "source": []
    },
    {
      "cell_type": "code",
      "execution_count": null,
      "metadata": {
        "id": "A8gUoTXFYEbG"
      },
      "outputs": [],
      "source": [
        "test_factorial(factorial_funcional)"
      ]
    },
    {
      "cell_type": "markdown",
      "metadata": {
        "id": "tF5BMJXuYEbG"
      },
      "source": [
        "## 7. Escribe una función que tome una lista y devuelva una lista de los valores únicos.\n",
        "\n",
        "`NOTE: No podemos usar set. 🤔`"
      ]
    },
    {
      "cell_type": "code",
      "execution_count": null,
      "metadata": {
        "id": "YTeOnhYsYEbG"
      },
      "outputs": [],
      "source": [
        "#tu codigo aquí"
      ]
    },
    {
      "cell_type": "code",
      "execution_count": null,
      "metadata": {
        "id": "GeTXeNySYEbG"
      },
      "outputs": [],
      "source": [
        "# Para testear tu función\n",
        "test_unique(unique_imperativa)"
      ]
    },
    {
      "cell_type": "code",
      "execution_count": null,
      "metadata": {
        "id": "7JARFLd7YEbG"
      },
      "outputs": [],
      "source": []
    },
    {
      "cell_type": "code",
      "execution_count": null,
      "metadata": {
        "id": "gBxS2IZ6YEbG"
      },
      "outputs": [],
      "source": [
        "test_unique(unique_poo)"
      ]
    },
    {
      "cell_type": "code",
      "execution_count": null,
      "metadata": {
        "id": "DwZUFhLBYEbG"
      },
      "outputs": [],
      "source": []
    },
    {
      "cell_type": "code",
      "execution_count": null,
      "metadata": {
        "id": "1Hd3ellhYEbG"
      },
      "outputs": [],
      "source": [
        "test_unique(unique_funcional)"
      ]
    },
    {
      "cell_type": "markdown",
      "metadata": {
        "id": "jP2tTU0KYEbG"
      },
      "source": [
        "## 8. Escribe una función que devuelva la moda de una lista, es decir: el elemento que aparece más veces.\n",
        "\n",
        "`NOTE: No se debe usar count... 🧐`"
      ]
    },
    {
      "cell_type": "code",
      "execution_count": null,
      "metadata": {
        "id": "wb0fc-JsYEbH"
      },
      "outputs": [],
      "source": [
        "#tu codigo aquí"
      ]
    },
    {
      "cell_type": "code",
      "execution_count": null,
      "metadata": {
        "id": "IRugQYQpYEbH"
      },
      "outputs": [],
      "source": [
        "# Para testear tu función\n",
        "test_mode(mode_imperativa)"
      ]
    },
    {
      "cell_type": "code",
      "execution_count": null,
      "metadata": {
        "id": "tzzipSH9YEbH"
      },
      "outputs": [],
      "source": []
    },
    {
      "cell_type": "code",
      "execution_count": null,
      "metadata": {
        "id": "36bv6R-hYEbH"
      },
      "outputs": [],
      "source": [
        "test_mode(mode_poo)"
      ]
    },
    {
      "cell_type": "code",
      "execution_count": null,
      "metadata": {
        "id": "gNP8UK1uYEbH"
      },
      "outputs": [],
      "source": []
    },
    {
      "cell_type": "code",
      "execution_count": null,
      "metadata": {
        "id": "BpqDpPgLYEbH"
      },
      "outputs": [],
      "source": [
        "test_mode(mode_funcional)"
      ]
    },
    {
      "cell_type": "markdown",
      "metadata": {
        "id": "txuHHPVwYEbH"
      },
      "source": [
        "## 9. Escribe una función que calcule la desviación estándar de una lista.\n",
        "`NOTE: no utilices librerías ni ninguna función ya construida. 😉`"
      ]
    },
    {
      "cell_type": "code",
      "execution_count": null,
      "metadata": {
        "id": "Yaa_TQWOYEbH"
      },
      "outputs": [],
      "source": [
        "#tu codigo aquí"
      ]
    },
    {
      "cell_type": "code",
      "execution_count": null,
      "metadata": {
        "id": "u2GVSP7vYEbH"
      },
      "outputs": [],
      "source": [
        "# Para testear tu función\n",
        "test_stdev(st_dev_imperativa)"
      ]
    },
    {
      "cell_type": "code",
      "execution_count": null,
      "metadata": {
        "id": "ZIqqG7oXYEbI"
      },
      "outputs": [],
      "source": []
    },
    {
      "cell_type": "code",
      "execution_count": null,
      "metadata": {
        "id": "k_jgYq2pYEbI"
      },
      "outputs": [],
      "source": [
        "test_stdev(st_dev_poo)"
      ]
    },
    {
      "cell_type": "code",
      "execution_count": null,
      "metadata": {
        "id": "X9evSninYEbI"
      },
      "outputs": [],
      "source": []
    },
    {
      "cell_type": "code",
      "execution_count": null,
      "metadata": {
        "id": "DzSiUCq6YEbI"
      },
      "outputs": [],
      "source": [
        "test_stdev(st_dev_funcional)"
      ]
    },
    {
      "cell_type": "markdown",
      "metadata": {
        "id": "OmJ0uAx_YEbI"
      },
      "source": [
        "## 10. Escribe una función para verificar si una cadena es un pangrama, es decir: si contiene todas las letras del alfabeto al menos una vez. Ten en cuenta que las cadenas pueden contener caracteres que no son letras."
      ]
    },
    {
      "cell_type": "code",
      "execution_count": null,
      "metadata": {
        "id": "fc8NYx72YEbI"
      },
      "outputs": [],
      "source": [
        "#tu codigo aquí"
      ]
    },
    {
      "cell_type": "code",
      "execution_count": null,
      "metadata": {
        "id": "hLxS1KO7YEbI"
      },
      "outputs": [],
      "source": [
        "# Para testear tu función\n",
        "test_pangram(is_pangram_imperativa)"
      ]
    },
    {
      "cell_type": "code",
      "execution_count": null,
      "metadata": {
        "id": "Wm_mX2kFYEbI"
      },
      "outputs": [],
      "source": []
    },
    {
      "cell_type": "code",
      "execution_count": null,
      "metadata": {
        "id": "5rK5_BQyYEbI"
      },
      "outputs": [],
      "source": [
        "test_pangram(is_pangram_poo)"
      ]
    },
    {
      "cell_type": "code",
      "execution_count": null,
      "metadata": {
        "id": "iS3s23uJYEbI"
      },
      "outputs": [],
      "source": []
    },
    {
      "cell_type": "code",
      "execution_count": null,
      "metadata": {
        "id": "974e6A8nYEbI"
      },
      "outputs": [],
      "source": [
        "# Test para la función funcional\n",
        "test_pangram(is_pangram_funcional)"
      ]
    },
    {
      "cell_type": "markdown",
      "metadata": {
        "id": "JlinEHHZYEbJ"
      },
      "source": [
        "## 11. Escribe una función que reciba una cadena de palabras separadas por comas y devuelva una cadena de palabras separadas por comas ordenadas alfabéticamente.\n",
        "\n",
        "`NOTA: Puedes usar sorted pero no split y definitivamente no join! 🤪`"
      ]
    },
    {
      "cell_type": "code",
      "execution_count": null,
      "metadata": {
        "id": "CDyTnnHuYEbJ"
      },
      "outputs": [],
      "source": [
        "#tu codigo aquí"
      ]
    },
    {
      "cell_type": "code",
      "execution_count": null,
      "metadata": {
        "id": "8DSjfDIPYEbJ"
      },
      "outputs": [],
      "source": [
        "# Para testear tu función\n",
        "test_alpha(sort_words_imperativa)"
      ]
    },
    {
      "cell_type": "code",
      "execution_count": null,
      "metadata": {
        "id": "kB26lmF_YEbJ"
      },
      "outputs": [],
      "source": []
    },
    {
      "cell_type": "code",
      "execution_count": null,
      "metadata": {
        "id": "n5uywt8mYEbJ"
      },
      "outputs": [],
      "source": [
        "test_alpha(sort_words_poo)"
      ]
    },
    {
      "cell_type": "code",
      "execution_count": null,
      "metadata": {
        "id": "ibb8wF5LYEbJ"
      },
      "outputs": [],
      "source": []
    },
    {
      "cell_type": "code",
      "execution_count": null,
      "metadata": {
        "id": "wT-IOfHVYEbJ"
      },
      "outputs": [],
      "source": [
        "test_alpha(sort_words_funcional)"
      ]
    },
    {
      "cell_type": "markdown",
      "metadata": {
        "id": "ZIV1jRziYEbJ"
      },
      "source": [
        "## 12. Escribe una función para verificar si una contraseña dada es fuerte (al menos 8 caracteres, al menos una minúscula, al menos una mayúscula, al menos un número y al menos un carácter especial). Debería devolver True si es fuerte y False si no lo es. Se permit el uso de regex"
      ]
    },
    {
      "cell_type": "code",
      "execution_count": null,
      "metadata": {
        "id": "EGB80El4YEbJ"
      },
      "outputs": [],
      "source": [
        "#tu codigo aquí"
      ]
    },
    {
      "cell_type": "code",
      "execution_count": null,
      "metadata": {
        "id": "A0BqKIyVYEbK"
      },
      "outputs": [],
      "source": [
        "# Para testear tu función\n",
        "test_pass(is_strong_password_imperativa)"
      ]
    },
    {
      "cell_type": "code",
      "execution_count": null,
      "metadata": {
        "id": "7d2U_2LAYEbK"
      },
      "outputs": [],
      "source": []
    },
    {
      "cell_type": "code",
      "execution_count": null,
      "metadata": {
        "id": "Q1NNJpNOYEbK"
      },
      "outputs": [],
      "source": [
        "test_pass(is_strong_password_poo)"
      ]
    },
    {
      "cell_type": "code",
      "execution_count": null,
      "metadata": {
        "id": "GtLqcN9cYEbK"
      },
      "outputs": [],
      "source": []
    },
    {
      "cell_type": "code",
      "execution_count": null,
      "metadata": {
        "id": "5LsJsXX5YEbK"
      },
      "outputs": [],
      "source": [
        "test_pass(is_strong_password_funcional)"
      ]
    }
  ],
  "metadata": {
    "kernelspec": {
      "display_name": "Python 3 (ipykernel)",
      "language": "python",
      "name": "python3"
    },
    "language_info": {
      "codemirror_mode": {
        "name": "ipython",
        "version": 3
      },
      "file_extension": ".py",
      "mimetype": "text/x-python",
      "name": "python",
      "nbconvert_exporter": "python",
      "pygments_lexer": "ipython3",
      "version": "3.10.12"
    },
    "vscode": {
      "interpreter": {
        "hash": "aee8b7b246df8f9039afb4144a1f6fd8d2ca17a180786b69acc140d282b71a49"
      }
    },
    "colab": {
      "provenance": [],
      "toc_visible": true
    }
  },
  "nbformat": 4,
  "nbformat_minor": 0
}