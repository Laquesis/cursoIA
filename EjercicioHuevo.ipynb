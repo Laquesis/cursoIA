{
  "nbformat": 4,
  "nbformat_minor": 0,
  "metadata": {
    "colab": {
      "provenance": [],
      "authorship_tag": "ABX9TyPbP3yWMoFQd47eU8Urb5LV",
      "include_colab_link": true
    },
    "kernelspec": {
      "name": "python3",
      "display_name": "Python 3"
    },
    "language_info": {
      "name": "python"
    }
  },
  "cells": [
    {
      "cell_type": "markdown",
      "metadata": {
        "id": "view-in-github",
        "colab_type": "text"
      },
      "source": [
        "<a href=\"https://colab.research.google.com/github/Laquesis/cursoIA/blob/main/EjercicioHuevo.ipynb\" target=\"_parent\"><img src=\"https://colab.research.google.com/assets/colab-badge.svg\" alt=\"Open In Colab\"/></a>"
      ]
    },
    {
      "cell_type": "code",
      "execution_count": 13,
      "metadata": {
        "colab": {
          "base_uri": "https://localhost:8080/"
        },
        "id": "G5XCzwSxKDOS",
        "outputId": "7fa9ea46-6087-4c95-dab0-7a4f0ed6d0ea"
      },
      "outputs": [
        {
          "output_type": "stream",
          "name": "stdout",
          "text": [
            "No puede ser un valor menor o igual a 0\n",
            "{'S': 3, 'M': 1, 'L': 1, 'XL': 1}\n",
            "S 3\n",
            "M 1\n",
            "L 1\n",
            "XL 1\n"
          ]
        }
      ],
      "source": [
        "pesos_huevos=[20, 30, 50, 60, 70, 80, 0]\n",
        "cuenta_huevos ={\"S\":0,\n",
        "               \"M\":0,\n",
        "               \"L\":0,\n",
        "               \"XL\":0}\n",
        "for i in pesos_huevos:\n",
        "  if(i>0):\n",
        "    if i> 0 and i < 53 :\n",
        "      cuenta_huevos['S'] +=1\n",
        "    elif i >=53 and i < 63 :\n",
        "          cuenta_huevos['M'] +=1\n",
        "    elif i >= 63 and i < 73:\n",
        "      cuenta_huevos['L'] +=1\n",
        "    elif i >=73:\n",
        "      cuenta_huevos['XL'] +=1\n",
        "  else:\n",
        "    print(\"No puede ser un valor menor o igual a 0\")\n",
        "print(cuenta_huevos)\n",
        "for e,i in cuenta_huevos.items():\n",
        "  print(e,i)\n",
        "\n"
      ]
    }
  ]
}