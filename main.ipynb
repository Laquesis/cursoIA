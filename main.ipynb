{
  "cells": [
    {
      "cell_type": "markdown",
      "metadata": {
        "id": "view-in-github",
        "colab_type": "text"
      },
      "source": [
        "<a href=\"https://colab.research.google.com/github/Laquesis/cursoIA/blob/main/main.ipynb\" target=\"_parent\"><img src=\"https://colab.research.google.com/assets/colab-badge.svg\" alt=\"Open In Colab\"/></a>"
      ]
    },
    {
      "cell_type": "markdown",
      "metadata": {
        "id": "yT2DZbbE1ZUI"
      },
      "source": [
        "## Instrucciones para el Laboratorio\n",
        "\n",
        "Para cada ejercicio del laboratorio, se requiere seguir estos pasos:\n",
        "\n",
        "1. **Desarrollo del Pseudocódigo**: Antes de comenzar a programar, elabora un pseudocódigo para cada solución. El pseudocódigo debe detallar la lógica y los pasos necesarios para resolver el problema de manera clara y estructurada. Esto te ayudará a comprender mejor la solución antes de codificarla.\n",
        "\n",
        "2. **Implementación del Programa**: Una vez que tengas el pseudocódigo listo y revisado, procede a programar la solución en Python. Asegúrate de que tu código siga la lógica que has definido en el pseudocódigo y cumpla con los requisitos especificados en cada ejercicio.\n",
        "\n",
        "Recuerda que una buena planificación a través del pseudocódigo facilitará el proceso de programación y te permitirá identificar posibles errores antes de implementar el código."
      ]
    },
    {
      "cell_type": "markdown",
      "metadata": {
        "id": "9dAttEDn1ZUI"
      },
      "source": [
        "## Ejercicio: Transformación de Palabras\n",
        "\n",
        "Dada la lista de palabras:"
      ]
    },
    {
      "cell_type": "code",
      "execution_count": null,
      "metadata": {
        "id": "7jccW_Ae1ZUJ"
      },
      "outputs": [],
      "source": [
        "words = ['play', 'filling', 'bar', 'theatre', 'easygoing', 'date', 'lead', 'that', 'story',  'island']"
      ]
    },
    {
      "cell_type": "markdown",
      "metadata": {
        "id": "vkEkC7cg1ZUJ"
      },
      "source": [
        "1. **Imprimir Letras Mayúsculas**: Escribe un programa que imprima todas las letras de cada palabra en la lista en mayúsculas, separando cada letra por una coma."
      ]
    },
    {
      "cell_type": "code",
      "execution_count": null,
      "metadata": {
        "id": "a9SMCJBq1ZUJ"
      },
      "outputs": [],
      "source": [
        "#declaro la lista words\n",
        "#convierto todas las letras de cada elemento de la lista en mayúscula con el toUpper\n",
        "#separo cada elemento de cada palabra convertida en mayúsculas mediante otro búcle i le voy añadiendo a cada palabra un _ al final\n",
        "#lo voy acumulando en una variable tipo string que voy guardando en otra lista que imprimire al final"
      ]
    },
    {
      "cell_type": "code",
      "execution_count": 13,
      "metadata": {
        "id": "kpR3-OYG1ZUJ",
        "colab": {
          "base_uri": "https://localhost:8080/"
        },
        "outputId": "94bd5462-b138-40d9-d8e8-6ff7c9494ab5"
      },
      "outputs": [
        {
          "output_type": "stream",
          "name": "stdout",
          "text": [
            "['P-L-A-Y', 'F-I-L-L-I-N-G', 'B-A-R', 'T-H-E-A-T-R-E', 'E-A-S-Y-G-O-I-N-G', 'D-A-T-E', 'L-E-A-D', 'T-H-A-T', 'S-T-O-R-Y', 'I-S-L-A-N-D']\n"
          ]
        }
      ],
      "source": [
        "words = ['play', 'filling', 'bar', 'theatre', 'easygoing', 'date', 'lead', 'that', 'story',  'island']\n",
        "print_words=\"\"\n",
        "new_words=[]\n",
        "for e in words:\n",
        "  new_word= e.upper()\n",
        "  for i in range(len(new_word)):\n",
        "    print_words +=new_word[i]+\"-\"\n",
        "    #print(new_word[i]+\"-\")\n",
        "  new_words.append(print_words.strip(\"-\"))\n",
        "  print_words=\"\"\n",
        "print(new_words)"
      ]
    },
    {
      "cell_type": "code",
      "execution_count": null,
      "metadata": {
        "id": "2ndpKavP1ZUJ"
      },
      "outputs": [],
      "source": [
        "# tu codigo con while aquí"
      ]
    },
    {
      "cell_type": "code",
      "execution_count": 19,
      "metadata": {
        "colab": {
          "base_uri": "https://localhost:8080/"
        },
        "outputId": "a6063376-00f9-45dd-ebd2-eb205ee09db7",
        "id": "JgEjhFNOApgX"
      },
      "outputs": [
        {
          "output_type": "stream",
          "name": "stdout",
          "text": [
            "['P-L-A-Y', 'F-I-L-L-I-N-G', 'B-A-R', 'T-H-E-A-T-R-E', 'E-A-S-Y-G-O-I-N-G', 'D-A-T-E', 'L-E-A-D', 'T-H-A-T', 'S-T-O-R-Y', 'I-S-L-A-N-D']\n"
          ]
        }
      ],
      "source": [
        "words = ['play', 'filling', 'bar', 'theatre', 'easygoing', 'date', 'lead', 'that', 'story',  'island']\n",
        "print_words=\"\"\n",
        "new_words=[]\n",
        "contador1=0\n",
        "contador2=0\n",
        "while contador1 < len(words):\n",
        "  new_word= words[contador1].upper()\n",
        "  while contador2 <(len(new_word)):\n",
        "    print_words +=new_word[contador2]+\"-\"\n",
        "    #print(new_word[i]+\"-\")\n",
        "    contador2+=1\n",
        "  new_words.append(print_words.strip(\"-\"))\n",
        "  print_words=\"\"\n",
        "  contador2=0\n",
        "  contador1+=1\n",
        "print(new_words)"
      ]
    },
    {
      "cell_type": "markdown",
      "metadata": {
        "id": "DXZw5SXP1ZUJ"
      },
      "source": [
        "2. **Crear una Nueva Lista**: Genera una nueva lista que contenga solo las palabras que tengan 5 o más letras. Luego, imprime esta nueva lista."
      ]
    },
    {
      "cell_type": "code",
      "execution_count": null,
      "metadata": {
        "id": "aJ0mAFlF1ZUK"
      },
      "outputs": [],
      "source": [
        "# tu pseudocodigo aquí"
      ]
    },
    {
      "cell_type": "code",
      "execution_count": 22,
      "metadata": {
        "id": "5cUknse-1ZUK",
        "colab": {
          "base_uri": "https://localhost:8080/"
        },
        "outputId": "193ef402-233f-490f-9d70-5aef3555ddbd"
      },
      "outputs": [
        {
          "output_type": "stream",
          "name": "stdout",
          "text": [
            "['filling', 'theatre', 'easygoing', 'story', 'island']\n"
          ]
        }
      ],
      "source": [
        "words = ['play', 'filling', 'bar', 'theatre', 'easygoing', 'date', 'lead', 'that', 'story',  'island']\n",
        "new_words=[]\n",
        "for e in words:\n",
        "  if (len(e)>=5):\n",
        "    new_words.append(e)\n",
        "print(new_words)"
      ]
    },
    {
      "cell_type": "code",
      "execution_count": 24,
      "metadata": {
        "id": "rUFX8X_l1ZUK",
        "colab": {
          "base_uri": "https://localhost:8080/"
        },
        "outputId": "fea3e628-0c1c-43c8-9151-4c6e64455ec4"
      },
      "outputs": [
        {
          "output_type": "stream",
          "name": "stdout",
          "text": [
            "['filling', 'theatre', 'easygoing', 'story', 'island']\n"
          ]
        }
      ],
      "source": [
        "words = ['play', 'filling', 'bar', 'theatre', 'easygoing', 'date', 'lead', 'that', 'story',  'island']\n",
        "new_words=[]\n",
        "contador1=0\n",
        "while contador1 < len(words):\n",
        "  new_word= words[contador1]\n",
        "  if(len(new_word))>= 5:\n",
        "    new_words.append(new_word)\n",
        "  contador1+=1\n",
        "print(new_words)"
      ]
    },
    {
      "cell_type": "markdown",
      "metadata": {
        "id": "p0zTQUDe1ZUK"
      },
      "source": [
        "3. **Encontrar Palabras que Comienzan con 't'**: Imprime la primera palabra en la lista que comience con la letra 't'. Si no hay ninguna, imprime un mensaje indicando que no se encontró ninguna palabra que empiece con 't'."
      ]
    },
    {
      "cell_type": "code",
      "execution_count": null,
      "metadata": {
        "id": "jhTc0vLp1ZUK"
      },
      "outputs": [],
      "source": [
        "# tu pseudocodigo aquí"
      ]
    },
    {
      "cell_type": "code",
      "execution_count": 26,
      "metadata": {
        "id": "AEhkrf0M1ZUK",
        "colab": {
          "base_uri": "https://localhost:8080/"
        },
        "outputId": "8450f7a7-9132-4d78-e09b-cad4cb10d20a"
      },
      "outputs": [
        {
          "output_type": "stream",
          "name": "stdout",
          "text": [
            "['theatre']\n"
          ]
        }
      ],
      "source": [
        "words = ['play', 'filling', 'bar', 'theatre', 'easygoing', 'date', 'lead', 'that', 'story',  'island']\n",
        "new_words=[]\n",
        "for e in words:\n",
        "  if (\"t\" in e):\n",
        "    new_words.append(e)\n",
        "    break\n",
        "print(new_words)"
      ]
    },
    {
      "cell_type": "code",
      "execution_count": 29,
      "metadata": {
        "id": "ah99bOg41ZUK",
        "colab": {
          "base_uri": "https://localhost:8080/"
        },
        "outputId": "342ef17b-d8c6-48f5-f2ae-a64097d67a58"
      },
      "outputs": [
        {
          "output_type": "stream",
          "name": "stdout",
          "text": [
            "['theatre']\n"
          ]
        }
      ],
      "source": [
        "words = ['play', 'filling', 'bar', 'theatre', 'easygoing', 'date', 'lead', 'that', 'story',  'island']\n",
        "new_words=[]\n",
        "contador1=0\n",
        "while contador1 < len(words):\n",
        "  new_word= words[contador1]\n",
        "  if (\"t\" in new_word):\n",
        "    new_words.append(new_word)\n",
        "    break\n",
        "  contador1+=1\n",
        "print(new_words)"
      ]
    },
    {
      "cell_type": "markdown",
      "metadata": {
        "id": "kZ2id5A31ZUK"
      },
      "source": [
        "4. **Contar las Vocales**: Escribe un programa que cuente y imprima el número total de vocales en todas las palabras de la lista."
      ]
    },
    {
      "cell_type": "code",
      "execution_count": null,
      "metadata": {
        "id": "pLXUQRG21ZUL"
      },
      "outputs": [],
      "source": [
        "# tu pseudocodigo aquí\n"
      ]
    },
    {
      "cell_type": "code",
      "execution_count": 33,
      "metadata": {
        "id": "pM1i-5Xv1ZUL",
        "colab": {
          "base_uri": "https://localhost:8080/"
        },
        "outputId": "053fa7c7-3b98-4c09-aaf1-1a6a907c913d"
      },
      "outputs": [
        {
          "output_type": "stream",
          "name": "stdout",
          "text": [
            "[1, 2, 1, 3, 4, 2, 2, 1, 1, 2]\n"
          ]
        }
      ],
      "source": [
        "words = ['play', 'filling', 'bar', 'theatre', 'easygoing', 'date', 'lead', 'that', 'story',  'island']\n",
        "vocals =[\"a\",\"A\",\"e\",\"E\",\"i\",\"I\",\"o\",\"O\",\"u\",\"U\"]\n",
        "totals =[]\n",
        "contadorVocals=0\n",
        "for e in words:\n",
        "  for i in e:\n",
        "    if i in vocals:\n",
        "      contadorVocals +=1\n",
        "  totals.append(contadorVocals)\n",
        "  contadorVocals=0\n",
        "print(totals)"
      ]
    },
    {
      "cell_type": "code",
      "execution_count": null,
      "metadata": {
        "id": "jIC6P90D1ZUL"
      },
      "outputs": [],
      "source": [
        "# tu codigo con while aquí"
      ]
    },
    {
      "cell_type": "markdown",
      "metadata": {
        "id": "KEVinHOe1ZUL"
      },
      "source": [
        "5. **Palabras que Contienen la Letra 'a'**: Crea una nueva lista que contenga solo las palabras que tengan la letra 'a'. Imprime esta nueva lista."
      ]
    },
    {
      "cell_type": "code",
      "execution_count": null,
      "metadata": {
        "id": "KYFo1Yfg1ZUL"
      },
      "outputs": [],
      "source": [
        "# tu pseudocodigo aquí"
      ]
    },
    {
      "cell_type": "code",
      "execution_count": null,
      "metadata": {
        "id": "ZeJnR3XT1ZUL"
      },
      "outputs": [],
      "source": [
        "# tu codigo con for aquí"
      ]
    },
    {
      "cell_type": "code",
      "execution_count": null,
      "metadata": {
        "id": "EwSnKM1z1ZUL"
      },
      "outputs": [],
      "source": [
        "# tu codigo con while aquí"
      ]
    },
    {
      "cell_type": "markdown",
      "metadata": {
        "id": "nrNm7PPT1ZUL"
      },
      "source": [
        "6. **Palabras en Orden Inverso**: Imprime la lista de palabras en orden inverso, de la última a la primera."
      ]
    },
    {
      "cell_type": "code",
      "execution_count": null,
      "metadata": {
        "id": "myvgFXm71ZUL"
      },
      "outputs": [],
      "source": [
        "# tu pseudocodigo aquí"
      ]
    },
    {
      "cell_type": "code",
      "execution_count": null,
      "metadata": {
        "id": "TdV3P8bp1ZUL"
      },
      "outputs": [],
      "source": [
        "# tu codigo con for aquí"
      ]
    },
    {
      "cell_type": "code",
      "execution_count": null,
      "metadata": {
        "id": "YmWzqQ5X1ZUL"
      },
      "outputs": [],
      "source": [
        "# tu codigo con while aquí"
      ]
    },
    {
      "cell_type": "markdown",
      "metadata": {
        "id": "4ZxNZ-ob1ZUL"
      },
      "source": [
        "## Numeros Primos"
      ]
    },
    {
      "cell_type": "markdown",
      "metadata": {
        "id": "aHPXXLOL1ZUM"
      },
      "source": [
        "1. **Lista de Números Primos**:\n",
        "   Crea una lista que contenga los números primos entre 1 y 20. Imprime la lista."
      ]
    },
    {
      "cell_type": "code",
      "execution_count": null,
      "metadata": {
        "id": "3TfuT1kY1ZUM"
      },
      "outputs": [],
      "source": [
        "# tu pseudocodigo aquí"
      ]
    },
    {
      "cell_type": "code",
      "execution_count": null,
      "metadata": {
        "id": "vLj2CCXz1ZUM"
      },
      "outputs": [],
      "source": [
        "# tu codigo con for aquí"
      ]
    },
    {
      "cell_type": "code",
      "execution_count": null,
      "metadata": {
        "id": "3xV-B0IJ1ZUM"
      },
      "outputs": [],
      "source": [
        "# tu codigo con while aquí"
      ]
    },
    {
      "cell_type": "markdown",
      "metadata": {
        "id": "iql5ovlM1ZUM"
      },
      "source": [
        "2. **Contar Números Primos**:\n",
        "   Escribe un programa que cuente cuántos números primos hay entre 1 y 30. Imprime el total."
      ]
    },
    {
      "cell_type": "code",
      "execution_count": null,
      "metadata": {
        "id": "PgYniv-R1ZUM"
      },
      "outputs": [],
      "source": [
        "# tu pseudocodigo aquí"
      ]
    },
    {
      "cell_type": "code",
      "execution_count": null,
      "metadata": {
        "id": "Bzef-iH91ZUM"
      },
      "outputs": [],
      "source": [
        "# tu codigo con for aquí"
      ]
    },
    {
      "cell_type": "code",
      "execution_count": null,
      "metadata": {
        "id": "87Qn2kRz1ZUM"
      },
      "outputs": [],
      "source": [
        "# tu codigo con while aquí"
      ]
    },
    {
      "cell_type": "markdown",
      "metadata": {
        "id": "T8rDsIRk1ZUM"
      },
      "source": [
        "3. **Suma de Números Primos**:\n",
        "   Crea un programa que calcule la suma de los números primos menores de 50 y la imprima."
      ]
    },
    {
      "cell_type": "code",
      "execution_count": null,
      "metadata": {
        "id": "e1iO0b1Q1ZUM"
      },
      "outputs": [],
      "source": [
        "# tu pseudocodigo aquí"
      ]
    },
    {
      "cell_type": "code",
      "execution_count": null,
      "metadata": {
        "id": "xm3OKJkc1ZUM"
      },
      "outputs": [],
      "source": [
        "# tu codigo con for aquí"
      ]
    },
    {
      "cell_type": "code",
      "execution_count": null,
      "metadata": {
        "id": "ta4JUuh21ZUQ"
      },
      "outputs": [],
      "source": [
        "# tu codigo con while aquí"
      ]
    },
    {
      "cell_type": "markdown",
      "metadata": {
        "id": "fpAdZIMA1ZUQ"
      },
      "source": [
        "4. **Verificar si un Número es Primo**:\n",
        "   Escribe un programa que pida al usuario un número y que determine si es primo. Imprime un mensaje indicando si el número es primo o no."
      ]
    },
    {
      "cell_type": "code",
      "execution_count": null,
      "metadata": {
        "id": "jxOs8cNP1ZUQ"
      },
      "outputs": [],
      "source": [
        "# tu pseudocodigo aquí"
      ]
    },
    {
      "cell_type": "code",
      "execution_count": null,
      "metadata": {
        "id": "WBmXpN611ZUQ"
      },
      "outputs": [],
      "source": [
        "# tu codigo con for aquí"
      ]
    },
    {
      "cell_type": "code",
      "execution_count": null,
      "metadata": {
        "id": "KamvPd8E1ZUQ"
      },
      "outputs": [],
      "source": [
        "# tu codigo con while aquí"
      ]
    },
    {
      "cell_type": "markdown",
      "metadata": {
        "id": "LEcYqIUx1ZUQ"
      },
      "source": [
        "5. **Primos Menores a un Número**:\n",
        "   Crea un programa que pida al usuario un número y que imprima todos los números primos menores que ese número."
      ]
    },
    {
      "cell_type": "code",
      "execution_count": null,
      "metadata": {
        "id": "Ko893NLX1ZUQ"
      },
      "outputs": [],
      "source": [
        "# tu pseudocodigo aquí"
      ]
    },
    {
      "cell_type": "code",
      "execution_count": null,
      "metadata": {
        "id": "9eysPLdC1ZUQ"
      },
      "outputs": [],
      "source": [
        "# tu codigo con for aquí"
      ]
    },
    {
      "cell_type": "code",
      "execution_count": null,
      "metadata": {
        "id": "7BUW55_c1ZUQ"
      },
      "outputs": [],
      "source": [
        "# tu codigo con while aquí"
      ]
    },
    {
      "cell_type": "markdown",
      "metadata": {
        "id": "K9w2tiuu1ZUR"
      },
      "source": [
        "6. **Lista de Primos en un Rango**:\n",
        "   Crea un programa que genere e imprima los números primos entre 10 y 50."
      ]
    },
    {
      "cell_type": "code",
      "execution_count": null,
      "metadata": {
        "id": "7_r6mZrr1ZUR"
      },
      "outputs": [],
      "source": [
        "# tu pseudocodigo aquí"
      ]
    },
    {
      "cell_type": "code",
      "execution_count": null,
      "metadata": {
        "id": "jkpWKj-m1ZUR"
      },
      "outputs": [],
      "source": [
        "# tu codigo con for aquí"
      ]
    },
    {
      "cell_type": "code",
      "execution_count": null,
      "metadata": {
        "id": "SuzVBVOS1ZUR"
      },
      "outputs": [],
      "source": [
        "# tu codigo con while aquí"
      ]
    },
    {
      "cell_type": "markdown",
      "metadata": {
        "id": "AIkK_gaQ1ZUR"
      },
      "source": [
        "## People\n",
        "\n",
        "Dada la siguiente lista de personas:"
      ]
    },
    {
      "cell_type": "code",
      "execution_count": null,
      "metadata": {
        "id": "RglnKJ1C1ZUR"
      },
      "outputs": [],
      "source": [
        "people = [\n",
        "    {\n",
        "        \"name\": \"Juan\",\n",
        "        \"age\": 34,\n",
        "        \"n_kids\": 2,\n",
        "        \"city\": \"Madrid\"\n",
        "    },\n",
        "    {\n",
        "        \"name\": \"Pepe\",\n",
        "        \"age\": 27,\n",
        "        \"n_kids\": 0,\n",
        "        \"city\": \"Barcelona\"\n",
        "    },\n",
        "    {\n",
        "        \"name\": \"Sonia\",\n",
        "        \"age\": 41,\n",
        "        \"n_kids\": 1,\n",
        "        \"city\": \"Valencia\"\n",
        "    },\n",
        "    {\n",
        "        \"name\": \"Lucía\",\n",
        "        \"age\": 22,\n",
        "        \"n_kids\": 2,\n",
        "        \"city\": \"Sevilla\"\n",
        "    },\n",
        "    {\n",
        "        \"name\": \"Leo\",\n",
        "        \"age\": 55,\n",
        "        \"n_kids\": 5,\n",
        "        \"city\": \"Bilbao\"\n",
        "    },\n",
        "    {\n",
        "        \"name\": \"Marta\",\n",
        "        \"age\": 30,\n",
        "        \"n_kids\": 3,\n",
        "        \"city\": \"Zaragoza\"\n",
        "    },\n",
        "    {\n",
        "        \"name\": \"Carlos\",\n",
        "        \"age\": 45,\n",
        "        \"n_kids\": 0,\n",
        "        \"city\": \"Granada\"\n",
        "    }\n",
        "]"
      ]
    },
    {
      "cell_type": "markdown",
      "metadata": {
        "id": "YGABjgMm1ZUR"
      },
      "source": [
        "1. **Contar Personas**:\n",
        "   Escribe un programa que cuente cuántas personas hay en la lista `people`. Imprime el total."
      ]
    },
    {
      "cell_type": "code",
      "execution_count": null,
      "metadata": {
        "id": "vs-HgqZ-1ZUR"
      },
      "outputs": [],
      "source": [
        "# tu pseudocodigo aquí"
      ]
    },
    {
      "cell_type": "code",
      "execution_count": null,
      "metadata": {
        "id": "a3ORTsKW1ZUR"
      },
      "outputs": [],
      "source": [
        "# tu codigo con for aquí"
      ]
    },
    {
      "cell_type": "code",
      "execution_count": null,
      "metadata": {
        "id": "lk5et-wH1ZUS"
      },
      "outputs": [],
      "source": [
        "# tu codigo con while aquí"
      ]
    },
    {
      "cell_type": "markdown",
      "metadata": {
        "id": "3-AWsHLJ1ZUS"
      },
      "source": [
        "2. **Contar Personas con Hijos**:\n",
        "   Crea un programa que cuente cuántas personas tienen al menos un hijo. Imprime el número de estas personas."
      ]
    },
    {
      "cell_type": "code",
      "execution_count": null,
      "metadata": {
        "id": "lM4ANUdT1ZUS"
      },
      "outputs": [],
      "source": [
        "# tu pseudocodigo aquí"
      ]
    },
    {
      "cell_type": "code",
      "execution_count": null,
      "metadata": {
        "id": "3iPLoEvo1ZUS"
      },
      "outputs": [],
      "source": [
        "# tu codigo con for aquí"
      ]
    },
    {
      "cell_type": "code",
      "execution_count": null,
      "metadata": {
        "id": "qlfNT-5u1ZUS"
      },
      "outputs": [],
      "source": [
        "# tu codigo con while aquí"
      ]
    },
    {
      "cell_type": "markdown",
      "metadata": {
        "id": "AUTJxGrG1ZUS"
      },
      "source": [
        "3. **Contar Hijos Totales**:\n",
        "   Escribe un programa que calcule cuántos hijos hay en total entre todas las personas de la lista. Imprime el total."
      ]
    },
    {
      "cell_type": "code",
      "execution_count": null,
      "metadata": {
        "id": "I-j1DTW51ZUS"
      },
      "outputs": [],
      "source": [
        "# tu pseudocodigo aquí"
      ]
    },
    {
      "cell_type": "code",
      "execution_count": null,
      "metadata": {
        "id": "yxS9PR9R1ZUS"
      },
      "outputs": [],
      "source": [
        "# tu codigo con for aquí"
      ]
    },
    {
      "cell_type": "code",
      "execution_count": null,
      "metadata": {
        "id": "IyUTORPc1ZUS"
      },
      "outputs": [],
      "source": [
        "# tu codigo con while aquí"
      ]
    },
    {
      "cell_type": "markdown",
      "metadata": {
        "id": "DTJVmJqp1ZUS"
      },
      "source": [
        "4. **Promedio de Edad**:\n",
        "   Calcula y muestra la edad promedio de las personas en la lista."
      ]
    },
    {
      "cell_type": "code",
      "execution_count": null,
      "metadata": {
        "id": "jD-S9ot-1ZUT"
      },
      "outputs": [],
      "source": [
        "# tu pseudocodigo aquí"
      ]
    },
    {
      "cell_type": "code",
      "execution_count": null,
      "metadata": {
        "id": "gisYl3kO1ZUT"
      },
      "outputs": [],
      "source": [
        "# tu codigo con for aquí"
      ]
    },
    {
      "cell_type": "markdown",
      "metadata": {
        "id": "5IlNb5Z01ZUT"
      },
      "source": [
        "5. **Lista de Personas que Terminan en 'a'**:\n",
        "   Genera una lista con los nombres de las personas cuyo nombre termina en \"a\". Imprime esta lista."
      ]
    },
    {
      "cell_type": "code",
      "execution_count": null,
      "metadata": {
        "id": "ksfNkSTt1ZUT"
      },
      "outputs": [],
      "source": [
        "# tu pseudocodigo aquí"
      ]
    },
    {
      "cell_type": "code",
      "execution_count": null,
      "metadata": {
        "id": "niD-h4Ly1ZUT"
      },
      "outputs": [],
      "source": [
        "# tu codigo con for aquí"
      ]
    },
    {
      "cell_type": "markdown",
      "metadata": {
        "id": "qOeIwee-1ZUT"
      },
      "source": [
        "6. **Actualizar Información por Año**:\n",
        "   En un año, las personas cuyos nombres terminan en \"a\" tendrán un niño extra. Crea una nueva lista de diccionarios con la información actualizada de las personas (edad incrementada en 1 y `n_kids` aumentado en 1 para las que terminan en \"a\"). Imprime esta nueva lista."
      ]
    },
    {
      "cell_type": "code",
      "execution_count": null,
      "metadata": {
        "id": "6ES_lLlH1ZUT"
      },
      "outputs": [],
      "source": [
        "# tu pseudocodigo aquí"
      ]
    },
    {
      "cell_type": "code",
      "execution_count": null,
      "metadata": {
        "id": "ZzvT_m5Z1ZUT"
      },
      "outputs": [],
      "source": [
        "# tu codigo con for aquí"
      ]
    },
    {
      "cell_type": "code",
      "execution_count": null,
      "metadata": {
        "id": "B6V6ZjuQ1ZUT"
      },
      "outputs": [],
      "source": [
        "# tu codigo con while aquí"
      ]
    }
  ],
  "metadata": {
    "kernelspec": {
      "display_name": "Python 3 (ipykernel)",
      "language": "python",
      "name": "python3"
    },
    "language_info": {
      "codemirror_mode": {
        "name": "ipython",
        "version": 3
      },
      "file_extension": ".py",
      "mimetype": "text/x-python",
      "name": "python",
      "nbconvert_exporter": "python",
      "pygments_lexer": "ipython3",
      "version": "3.10.12"
    },
    "toc": {
      "base_numbering": 1,
      "nav_menu": {},
      "number_sections": false,
      "sideBar": true,
      "skip_h1_title": false,
      "title_cell": "Table of Contents",
      "title_sidebar": "Contents",
      "toc_cell": false,
      "toc_position": {},
      "toc_section_display": true,
      "toc_window_display": true
    },
    "varInspector": {
      "cols": {
        "lenName": 16,
        "lenType": 16,
        "lenVar": 40
      },
      "kernels_config": {
        "python": {
          "delete_cmd_postfix": "",
          "delete_cmd_prefix": "del ",
          "library": "var_list.py",
          "varRefreshCmd": "print(var_dic_list())"
        },
        "r": {
          "delete_cmd_postfix": ") ",
          "delete_cmd_prefix": "rm(",
          "library": "var_list.r",
          "varRefreshCmd": "cat(var_dic_list()) "
        }
      },
      "types_to_exclude": [
        "module",
        "function",
        "builtin_function_or_method",
        "instance",
        "_Feature"
      ],
      "window_display": false
    },
    "vscode": {
      "interpreter": {
        "hash": "aee8b7b246df8f9039afb4144a1f6fd8d2ca17a180786b69acc140d282b71a49"
      }
    },
    "colab": {
      "provenance": [],
      "toc_visible": true,
      "include_colab_link": true
    }
  },
  "nbformat": 4,
  "nbformat_minor": 0
}